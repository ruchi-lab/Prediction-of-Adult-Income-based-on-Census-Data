{
 "cells": [
  {
   "cell_type": "code",
   "execution_count": 24,
   "id": "661bff70",
   "metadata": {
    "scrolled": true
   },
   "outputs": [],
   "source": [
    "import pandas as pd"
   ]
  },
  {
   "cell_type": "code",
   "execution_count": 25,
   "id": "fcf04822",
   "metadata": {
    "scrolled": false
   },
   "outputs": [
    {
     "data": {
      "text/html": [
       "<div>\n",
       "<style scoped>\n",
       "    .dataframe tbody tr th:only-of-type {\n",
       "        vertical-align: middle;\n",
       "    }\n",
       "\n",
       "    .dataframe tbody tr th {\n",
       "        vertical-align: top;\n",
       "    }\n",
       "\n",
       "    .dataframe thead th {\n",
       "        text-align: right;\n",
       "    }\n",
       "</style>\n",
       "<table border=\"1\" class=\"dataframe\">\n",
       "  <thead>\n",
       "    <tr style=\"text-align: right;\">\n",
       "      <th></th>\n",
       "      <th>age</th>\n",
       "      <th>workclass</th>\n",
       "      <th>fnlwgt</th>\n",
       "      <th>education</th>\n",
       "      <th>education.num</th>\n",
       "      <th>marital.status</th>\n",
       "      <th>occupation</th>\n",
       "      <th>relationship</th>\n",
       "      <th>race</th>\n",
       "      <th>sex</th>\n",
       "      <th>capital.gain</th>\n",
       "      <th>capital.loss</th>\n",
       "      <th>hours.per.week</th>\n",
       "      <th>native.country</th>\n",
       "      <th>income</th>\n",
       "    </tr>\n",
       "  </thead>\n",
       "  <tbody>\n",
       "    <tr>\n",
       "      <th>0</th>\n",
       "      <td>90</td>\n",
       "      <td>Private</td>\n",
       "      <td>77053</td>\n",
       "      <td>HS-grad</td>\n",
       "      <td>9</td>\n",
       "      <td>Widowed</td>\n",
       "      <td>&lt;NA&gt;</td>\n",
       "      <td>Not-in-family</td>\n",
       "      <td>White</td>\n",
       "      <td>Female</td>\n",
       "      <td>0</td>\n",
       "      <td>4356</td>\n",
       "      <td>40</td>\n",
       "      <td>United-States</td>\n",
       "      <td>&lt;=50K</td>\n",
       "    </tr>\n",
       "    <tr>\n",
       "      <th>1</th>\n",
       "      <td>82</td>\n",
       "      <td>Private</td>\n",
       "      <td>132870</td>\n",
       "      <td>HS-grad</td>\n",
       "      <td>9</td>\n",
       "      <td>Widowed</td>\n",
       "      <td>Exec-managerial</td>\n",
       "      <td>Not-in-family</td>\n",
       "      <td>White</td>\n",
       "      <td>Female</td>\n",
       "      <td>0</td>\n",
       "      <td>4356</td>\n",
       "      <td>18</td>\n",
       "      <td>United-States</td>\n",
       "      <td>&lt;=50K</td>\n",
       "    </tr>\n",
       "    <tr>\n",
       "      <th>2</th>\n",
       "      <td>66</td>\n",
       "      <td>Private</td>\n",
       "      <td>186061</td>\n",
       "      <td>Some-college</td>\n",
       "      <td>10</td>\n",
       "      <td>Widowed</td>\n",
       "      <td>&lt;NA&gt;</td>\n",
       "      <td>Unmarried</td>\n",
       "      <td>Black</td>\n",
       "      <td>Female</td>\n",
       "      <td>0</td>\n",
       "      <td>4356</td>\n",
       "      <td>40</td>\n",
       "      <td>United-States</td>\n",
       "      <td>&lt;=50K</td>\n",
       "    </tr>\n",
       "    <tr>\n",
       "      <th>3</th>\n",
       "      <td>54</td>\n",
       "      <td>Private</td>\n",
       "      <td>140359</td>\n",
       "      <td>7th-8th</td>\n",
       "      <td>4</td>\n",
       "      <td>Divorced</td>\n",
       "      <td>Machine-op-inspct</td>\n",
       "      <td>Unmarried</td>\n",
       "      <td>White</td>\n",
       "      <td>Female</td>\n",
       "      <td>0</td>\n",
       "      <td>3900</td>\n",
       "      <td>40</td>\n",
       "      <td>United-States</td>\n",
       "      <td>&lt;=50K</td>\n",
       "    </tr>\n",
       "    <tr>\n",
       "      <th>4</th>\n",
       "      <td>41</td>\n",
       "      <td>Private</td>\n",
       "      <td>264663</td>\n",
       "      <td>Some-college</td>\n",
       "      <td>10</td>\n",
       "      <td>Separated</td>\n",
       "      <td>Prof-specialty</td>\n",
       "      <td>Own-child</td>\n",
       "      <td>White</td>\n",
       "      <td>Female</td>\n",
       "      <td>0</td>\n",
       "      <td>3900</td>\n",
       "      <td>40</td>\n",
       "      <td>United-States</td>\n",
       "      <td>&lt;=50K</td>\n",
       "    </tr>\n",
       "  </tbody>\n",
       "</table>\n",
       "</div>"
      ],
      "text/plain": [
       "   age workclass  fnlwgt     education  education.num marital.status  \\\n",
       "0   90   Private   77053       HS-grad              9        Widowed   \n",
       "1   82   Private  132870       HS-grad              9        Widowed   \n",
       "2   66   Private  186061  Some-college             10        Widowed   \n",
       "3   54   Private  140359       7th-8th              4       Divorced   \n",
       "4   41   Private  264663  Some-college             10      Separated   \n",
       "\n",
       "          occupation   relationship   race     sex  capital.gain  \\\n",
       "0               <NA>  Not-in-family  White  Female             0   \n",
       "1    Exec-managerial  Not-in-family  White  Female             0   \n",
       "2               <NA>      Unmarried  Black  Female             0   \n",
       "3  Machine-op-inspct      Unmarried  White  Female             0   \n",
       "4     Prof-specialty      Own-child  White  Female             0   \n",
       "\n",
       "   capital.loss  hours.per.week native.country income  \n",
       "0          4356              40  United-States  <=50K  \n",
       "1          4356              18  United-States  <=50K  \n",
       "2          4356              40  United-States  <=50K  \n",
       "3          3900              40  United-States  <=50K  \n",
       "4          3900              40  United-States  <=50K  "
      ]
     },
     "execution_count": 25,
     "metadata": {},
     "output_type": "execute_result"
    }
   ],
   "source": [
    "# Load the dataset\n",
    "file_path = 'adult.csv'\n",
    "data = pd.read_csv(file_path)\n",
    "\n",
    "# Replace '?' with NaN\n",
    "data.replace('?', pd.NA, inplace=True)\n",
    "\n",
    "# Find the mode of the 'workclass' column\n",
    "workclass_mode = data['workclass'].mode()[0]\n",
    "\n",
    "# Impute missing values in 'workclass' with its mode\n",
    "data['workclass'].fillna(workclass_mode, inplace=True)\n",
    "\n",
    "# Display the first few records to verify the imputation\n",
    "data.head()"
   ]
  },
  {
   "cell_type": "code",
   "execution_count": 26,
   "id": "02d2b84e",
   "metadata": {
    "scrolled": true
   },
   "outputs": [
    {
     "data": {
      "text/html": [
       "<div>\n",
       "<style scoped>\n",
       "    .dataframe tbody tr th:only-of-type {\n",
       "        vertical-align: middle;\n",
       "    }\n",
       "\n",
       "    .dataframe tbody tr th {\n",
       "        vertical-align: top;\n",
       "    }\n",
       "\n",
       "    .dataframe thead th {\n",
       "        text-align: right;\n",
       "    }\n",
       "</style>\n",
       "<table border=\"1\" class=\"dataframe\">\n",
       "  <thead>\n",
       "    <tr style=\"text-align: right;\">\n",
       "      <th></th>\n",
       "      <th>age</th>\n",
       "      <th>workclass</th>\n",
       "      <th>fnlwgt</th>\n",
       "      <th>education</th>\n",
       "      <th>education.num</th>\n",
       "      <th>marital.status</th>\n",
       "      <th>occupation</th>\n",
       "      <th>relationship</th>\n",
       "      <th>race</th>\n",
       "      <th>sex</th>\n",
       "      <th>capital.gain</th>\n",
       "      <th>capital.loss</th>\n",
       "      <th>hours.per.week</th>\n",
       "      <th>native.country</th>\n",
       "      <th>income</th>\n",
       "    </tr>\n",
       "  </thead>\n",
       "  <tbody>\n",
       "    <tr>\n",
       "      <th>0</th>\n",
       "      <td>90</td>\n",
       "      <td>Private</td>\n",
       "      <td>77053</td>\n",
       "      <td>HS-grad</td>\n",
       "      <td>9</td>\n",
       "      <td>Widowed</td>\n",
       "      <td>Prof-specialty</td>\n",
       "      <td>Not-in-family</td>\n",
       "      <td>White</td>\n",
       "      <td>Female</td>\n",
       "      <td>0</td>\n",
       "      <td>4356</td>\n",
       "      <td>40</td>\n",
       "      <td>United-States</td>\n",
       "      <td>&lt;=50K</td>\n",
       "    </tr>\n",
       "    <tr>\n",
       "      <th>1</th>\n",
       "      <td>82</td>\n",
       "      <td>Private</td>\n",
       "      <td>132870</td>\n",
       "      <td>HS-grad</td>\n",
       "      <td>9</td>\n",
       "      <td>Widowed</td>\n",
       "      <td>Exec-managerial</td>\n",
       "      <td>Not-in-family</td>\n",
       "      <td>White</td>\n",
       "      <td>Female</td>\n",
       "      <td>0</td>\n",
       "      <td>4356</td>\n",
       "      <td>18</td>\n",
       "      <td>United-States</td>\n",
       "      <td>&lt;=50K</td>\n",
       "    </tr>\n",
       "    <tr>\n",
       "      <th>2</th>\n",
       "      <td>66</td>\n",
       "      <td>Private</td>\n",
       "      <td>186061</td>\n",
       "      <td>Some-college</td>\n",
       "      <td>10</td>\n",
       "      <td>Widowed</td>\n",
       "      <td>Prof-specialty</td>\n",
       "      <td>Unmarried</td>\n",
       "      <td>Black</td>\n",
       "      <td>Female</td>\n",
       "      <td>0</td>\n",
       "      <td>4356</td>\n",
       "      <td>40</td>\n",
       "      <td>United-States</td>\n",
       "      <td>&lt;=50K</td>\n",
       "    </tr>\n",
       "    <tr>\n",
       "      <th>3</th>\n",
       "      <td>54</td>\n",
       "      <td>Private</td>\n",
       "      <td>140359</td>\n",
       "      <td>7th-8th</td>\n",
       "      <td>4</td>\n",
       "      <td>Divorced</td>\n",
       "      <td>Machine-op-inspct</td>\n",
       "      <td>Unmarried</td>\n",
       "      <td>White</td>\n",
       "      <td>Female</td>\n",
       "      <td>0</td>\n",
       "      <td>3900</td>\n",
       "      <td>40</td>\n",
       "      <td>United-States</td>\n",
       "      <td>&lt;=50K</td>\n",
       "    </tr>\n",
       "    <tr>\n",
       "      <th>4</th>\n",
       "      <td>41</td>\n",
       "      <td>Private</td>\n",
       "      <td>264663</td>\n",
       "      <td>Some-college</td>\n",
       "      <td>10</td>\n",
       "      <td>Separated</td>\n",
       "      <td>Prof-specialty</td>\n",
       "      <td>Own-child</td>\n",
       "      <td>White</td>\n",
       "      <td>Female</td>\n",
       "      <td>0</td>\n",
       "      <td>3900</td>\n",
       "      <td>40</td>\n",
       "      <td>United-States</td>\n",
       "      <td>&lt;=50K</td>\n",
       "    </tr>\n",
       "  </tbody>\n",
       "</table>\n",
       "</div>"
      ],
      "text/plain": [
       "   age workclass  fnlwgt     education  education.num marital.status  \\\n",
       "0   90   Private   77053       HS-grad              9        Widowed   \n",
       "1   82   Private  132870       HS-grad              9        Widowed   \n",
       "2   66   Private  186061  Some-college             10        Widowed   \n",
       "3   54   Private  140359       7th-8th              4       Divorced   \n",
       "4   41   Private  264663  Some-college             10      Separated   \n",
       "\n",
       "          occupation   relationship   race     sex  capital.gain  \\\n",
       "0     Prof-specialty  Not-in-family  White  Female             0   \n",
       "1    Exec-managerial  Not-in-family  White  Female             0   \n",
       "2     Prof-specialty      Unmarried  Black  Female             0   \n",
       "3  Machine-op-inspct      Unmarried  White  Female             0   \n",
       "4     Prof-specialty      Own-child  White  Female             0   \n",
       "\n",
       "   capital.loss  hours.per.week native.country income  \n",
       "0          4356              40  United-States  <=50K  \n",
       "1          4356              18  United-States  <=50K  \n",
       "2          4356              40  United-States  <=50K  \n",
       "3          3900              40  United-States  <=50K  \n",
       "4          3900              40  United-States  <=50K  "
      ]
     },
     "execution_count": 26,
     "metadata": {},
     "output_type": "execute_result"
    }
   ],
   "source": [
    "# Mode Imputation for 'occupation'\n",
    "occupation_mode = data['occupation'].mode()[0]\n",
    "data['occupation'].fillna(occupation_mode, inplace=True)\n",
    "\n",
    "# Creating a new category 'Unknown' for 'native.country'\n",
    "data['native.country'].fillna('Unknown', inplace=True)\n",
    "data.head()"
   ]
  },
  {
   "cell_type": "code",
   "execution_count": 27,
   "id": "fafdcf22",
   "metadata": {
    "scrolled": true
   },
   "outputs": [
    {
     "data": {
      "text/plain": [
       "age               0\n",
       "workclass         0\n",
       "fnlwgt            0\n",
       "education         0\n",
       "education.num     0\n",
       "marital.status    0\n",
       "occupation        0\n",
       "relationship      0\n",
       "race              0\n",
       "sex               0\n",
       "capital.gain      0\n",
       "capital.loss      0\n",
       "hours.per.week    0\n",
       "native.country    0\n",
       "income            0\n",
       "dtype: int64"
      ]
     },
     "execution_count": 27,
     "metadata": {},
     "output_type": "execute_result"
    }
   ],
   "source": [
    "# Verifying if there are any null values\n",
    "data.isnull().sum()"
   ]
  },
  {
   "cell_type": "markdown",
   "id": "066a1707",
   "metadata": {},
   "source": [
    "## Data Preprocessing"
   ]
  },
  {
   "cell_type": "code",
   "execution_count": 28,
   "id": "afc44724",
   "metadata": {
    "scrolled": false
   },
   "outputs": [
    {
     "data": {
      "image/png": "[encoded data removed]",
      "text/plain": [
       "<Figure size 800x600 with 2 Axes>"
      ]
     },
     "metadata": {},
     "output_type": "display_data"
    }
   ],
   "source": [
    "import seaborn as sns\n",
    "import matplotlib.pyplot as plt\n",
    "import pandas as pd\n",
    "\n",
    "\n",
    "# Calculate the correlation matrix\n",
    "corr = data.corr()\n",
    "\n",
    "# Set up the matplotlib figure\n",
    "plt.figure(figsize=(8, 6))\n",
    "\n",
    "# Draw the heatmap with the mask and correct aspect ratio\n",
    "sns.heatmap(corr, annot=True, fmt=\".2f\", cmap='coolwarm', square=True, linewidths=.5, cbar_kws={\"shrink\": .5})\n",
    "\n",
    "# Adding title\n",
    "plt.title('Correlation Heatmap')\n",
    "\n",
    "# Show the plot\n",
    "plt.show()\n"
   ]
  },
  {
   "cell_type": "code",
   "execution_count": 29,
   "id": "24758bfc",
   "metadata": {
    "scrolled": true
   },
   "outputs": [],
   "source": [
    "data = data.drop(columns=['fnlwgt', 'capital.gain', 'capital.loss'])"
   ]
  },
  {
   "cell_type": "markdown",
   "id": "9a4a646e",
   "metadata": {},
   "source": [
    "### Encoding Categorical Variables"
   ]
  },
  {
   "cell_type": "code",
   "execution_count": 30,
   "id": "a3aa846e",
   "metadata": {
    "scrolled": true
   },
   "outputs": [
    {
     "name": "stdout",
     "output_type": "stream",
     "text": [
      "Categorical Columns: Index(['workclass', 'education', 'marital.status', 'occupation',\n",
      "       'relationship', 'race', 'sex', 'native.country', 'income'],\n",
      "      dtype='object')\n"
     ]
    }
   ],
   "source": [
    "# Identify categorical columns\n",
    "categorical_columns = data.select_dtypes(include=['object']).columns\n",
    "print(\"Categorical Columns:\", categorical_columns)"
   ]
  },
  {
   "cell_type": "code",
   "execution_count": 31,
   "id": "2d517144",
   "metadata": {
    "scrolled": true
   },
   "outputs": [
    {
     "name": "stdout",
     "output_type": "stream",
     "text": [
      "   age  workclass  education  education.num marital.status  occupation  \\\n",
      "0   90          3          8              9        Widowed           9   \n",
      "1   82          3          8              9        Widowed           3   \n",
      "2   66          3         12             10        Widowed           9   \n",
      "3   54          3          3              4       Divorced           6   \n",
      "4   41          3         12             10      Separated           9   \n",
      "\n",
      "   relationship  race  sex  hours.per.week  native.country  income  \n",
      "0             1     4    1              40              38       0  \n",
      "1             1     4    1              18              38       0  \n",
      "2             4     2    1              40              38       0  \n",
      "3             4     4    1              40              38       0  \n",
      "4             3     4    1              40              38       0  \n"
     ]
    }
   ],
   "source": [
    "from sklearn.preprocessing import LabelEncoder\n",
    "\n",
    "education_order = {\n",
    "    'Preschool': 0, '1st-4th': 1, '5th-6th': 2, '7th-8th': 3,\n",
    "    '9th': 4, '10th': 5, '11th': 6, '12th': 7, 'HS-grad': 8,\n",
    "    'Prof-school': 9, 'Assoc-acdm': 10, 'Assoc-voc': 11,\n",
    "    'Some-college': 12, 'Bachelors': 13, 'Masters': 14, 'Doctorate': 15\n",
    "}\n",
    "\n",
    "# Copying the data to a new DataFrame for encoding\n",
    "data_encoded = data.copy()\n",
    "\n",
    "# Label Encoding for 'education'\n",
    "data_encoded['education'] = data_encoded['education'].map(education_order)\n",
    "\n",
    "# Binary Encoding for 'sex' and 'income'\n",
    "data_encoded['sex'] = data_encoded['sex'].map({'Male': 0, 'Female': 1})\n",
    "data_encoded['income'] = data_encoded['income'].map({'<=50K': 0, '>50K': 1})\n",
    "\n",
    "# Columns to encode\n",
    "columns_to_encode = ['workclass', 'occupation', 'relationship', 'race', 'native.country']\n",
    "\n",
    "# Initialize LabelEncoder\n",
    "label_encoder = LabelEncoder()\n",
    "\n",
    "# Apply LabelEncoder to each specified column\n",
    "for column in columns_to_encode:\n",
    "    data_encoded[column] = label_encoder.fit_transform(data_encoded[column])\n",
    "\n",
    "# Display the first few rows of the encoded dataset\n",
    "print(data_encoded.head())"
   ]
  },
  {
   "cell_type": "code",
   "execution_count": 32,
   "id": "0d39c46c",
   "metadata": {
    "scrolled": true
   },
   "outputs": [
    {
     "data": {
      "image/png": "[encoded data removed]",
      "text/plain": [
       "<Figure size 1000x600 with 1 Axes>"
      ]
     },
     "metadata": {},
     "output_type": "display_data"
    }
   ],
   "source": [
    "import pandas as pd\n",
    "import matplotlib.pyplot as plt\n",
    "\n",
    "# Calculate mean income for each marital status\n",
    "mean_income_per_status = data_encoded.groupby('marital.status')['income'].mean()\n",
    "\n",
    "# Create scatter plot\n",
    "plt.figure(figsize=(10, 6))\n",
    "plt.scatter(mean_income_per_status.index, mean_income_per_status.values)\n",
    "plt.title('Mean Income for Each Marital Status')\n",
    "plt.xlabel('Marital Status')\n",
    "plt.ylabel('AVG Income')\n",
    "plt.xticks(rotation=45)  \n",
    "plt.show()"
   ]
  },
  {
   "cell_type": "code",
   "execution_count": 33,
   "id": "4fbb015f",
   "metadata": {
    "scrolled": true
   },
   "outputs": [],
   "source": [
    "import pandas as pd\n",
    "\n",
    "# Function to merge categories\n",
    "def merge_marital_statuses(status):\n",
    "    if status in ['Married-civ-spouse', 'Married-AF-spouse']:\n",
    "        return 'Married-x-spouse'\n",
    "    else:\n",
    "        return status\n",
    "\n",
    "# Apply the function to the 'marital.status' column and create a new column\n",
    "data_encoded['new_marital_status'] = data_encoded['marital.status'].apply(merge_marital_statuses)\n",
    "data_encoded = data_encoded.drop('marital.status', axis=1)\n",
    "data_encoded['new_marital_status'] = label_encoder.fit_transform(data_encoded['new_marital_status'])\n"
   ]
  },
  {
   "cell_type": "code",
   "execution_count": 34,
   "id": "a8cf1725",
   "metadata": {
    "scrolled": true
   },
   "outputs": [
    {
     "data": {
      "image/png": "[encoded data removed]",
      "text/plain": [
       "<Figure size 1000x600 with 1 Axes>"
      ]
     },
     "metadata": {},
     "output_type": "display_data"
    }
   ],
   "source": [
    "import pandas as pd\n",
    "import matplotlib.pyplot as plt\n",
    "\n",
    "# Calculate mean income for each marital status\n",
    "mean_income_per_status = data_encoded.groupby('new_marital_status')['income'].mean()\n",
    "\n",
    "# Create scatter plot\n",
    "plt.figure(figsize=(10, 6))\n",
    "plt.scatter(mean_income_per_status.index, mean_income_per_status.values)\n",
    "plt.title('Mean Income for Each Marital Status')\n",
    "plt.xlabel('Marital Status')\n",
    "plt.ylabel('Mean Income')\n",
    "plt.xticks(rotation=45)  \n",
    "plt.show()"
   ]
  },
  {
   "cell_type": "code",
   "execution_count": 35,
   "id": "a622c19d",
   "metadata": {
    "scrolled": true
   },
   "outputs": [
    {
     "data": {
      "text/html": [
       "<div>\n",
       "<style scoped>\n",
       "    .dataframe tbody tr th:only-of-type {\n",
       "        vertical-align: middle;\n",
       "    }\n",
       "\n",
       "    .dataframe tbody tr th {\n",
       "        vertical-align: top;\n",
       "    }\n",
       "\n",
       "    .dataframe thead th {\n",
       "        text-align: right;\n",
       "    }\n",
       "</style>\n",
       "<table border=\"1\" class=\"dataframe\">\n",
       "  <thead>\n",
       "    <tr style=\"text-align: right;\">\n",
       "      <th></th>\n",
       "      <th>age</th>\n",
       "      <th>workclass</th>\n",
       "      <th>education</th>\n",
       "      <th>education.num</th>\n",
       "      <th>marital.status</th>\n",
       "      <th>occupation</th>\n",
       "      <th>relationship</th>\n",
       "      <th>race</th>\n",
       "      <th>sex</th>\n",
       "      <th>hours.per.week</th>\n",
       "      <th>native.country</th>\n",
       "      <th>income</th>\n",
       "    </tr>\n",
       "  </thead>\n",
       "  <tbody>\n",
       "    <tr>\n",
       "      <th>0</th>\n",
       "      <td>90</td>\n",
       "      <td>Private</td>\n",
       "      <td>HS-grad</td>\n",
       "      <td>9</td>\n",
       "      <td>Widowed</td>\n",
       "      <td>Prof-specialty</td>\n",
       "      <td>Not-in-family</td>\n",
       "      <td>White</td>\n",
       "      <td>Female</td>\n",
       "      <td>40</td>\n",
       "      <td>United-States</td>\n",
       "      <td>&lt;=50K</td>\n",
       "    </tr>\n",
       "    <tr>\n",
       "      <th>1</th>\n",
       "      <td>82</td>\n",
       "      <td>Private</td>\n",
       "      <td>HS-grad</td>\n",
       "      <td>9</td>\n",
       "      <td>Widowed</td>\n",
       "      <td>Exec-managerial</td>\n",
       "      <td>Not-in-family</td>\n",
       "      <td>White</td>\n",
       "      <td>Female</td>\n",
       "      <td>18</td>\n",
       "      <td>United-States</td>\n",
       "      <td>&lt;=50K</td>\n",
       "    </tr>\n",
       "    <tr>\n",
       "      <th>2</th>\n",
       "      <td>66</td>\n",
       "      <td>Private</td>\n",
       "      <td>Some-college</td>\n",
       "      <td>10</td>\n",
       "      <td>Widowed</td>\n",
       "      <td>Prof-specialty</td>\n",
       "      <td>Unmarried</td>\n",
       "      <td>Black</td>\n",
       "      <td>Female</td>\n",
       "      <td>40</td>\n",
       "      <td>United-States</td>\n",
       "      <td>&lt;=50K</td>\n",
       "    </tr>\n",
       "    <tr>\n",
       "      <th>3</th>\n",
       "      <td>54</td>\n",
       "      <td>Private</td>\n",
       "      <td>7th-8th</td>\n",
       "      <td>4</td>\n",
       "      <td>Divorced</td>\n",
       "      <td>Machine-op-inspct</td>\n",
       "      <td>Unmarried</td>\n",
       "      <td>White</td>\n",
       "      <td>Female</td>\n",
       "      <td>40</td>\n",
       "      <td>United-States</td>\n",
       "      <td>&lt;=50K</td>\n",
       "    </tr>\n",
       "    <tr>\n",
       "      <th>4</th>\n",
       "      <td>41</td>\n",
       "      <td>Private</td>\n",
       "      <td>Some-college</td>\n",
       "      <td>10</td>\n",
       "      <td>Separated</td>\n",
       "      <td>Prof-specialty</td>\n",
       "      <td>Own-child</td>\n",
       "      <td>White</td>\n",
       "      <td>Female</td>\n",
       "      <td>40</td>\n",
       "      <td>United-States</td>\n",
       "      <td>&lt;=50K</td>\n",
       "    </tr>\n",
       "  </tbody>\n",
       "</table>\n",
       "</div>"
      ],
      "text/plain": [
       "   age workclass     education  education.num marital.status  \\\n",
       "0   90   Private       HS-grad              9        Widowed   \n",
       "1   82   Private       HS-grad              9        Widowed   \n",
       "2   66   Private  Some-college             10        Widowed   \n",
       "3   54   Private       7th-8th              4       Divorced   \n",
       "4   41   Private  Some-college             10      Separated   \n",
       "\n",
       "          occupation   relationship   race     sex  hours.per.week  \\\n",
       "0     Prof-specialty  Not-in-family  White  Female              40   \n",
       "1    Exec-managerial  Not-in-family  White  Female              18   \n",
       "2     Prof-specialty      Unmarried  Black  Female              40   \n",
       "3  Machine-op-inspct      Unmarried  White  Female              40   \n",
       "4     Prof-specialty      Own-child  White  Female              40   \n",
       "\n",
       "  native.country income  \n",
       "0  United-States  <=50K  \n",
       "1  United-States  <=50K  \n",
       "2  United-States  <=50K  \n",
       "3  United-States  <=50K  \n",
       "4  United-States  <=50K  "
      ]
     },
     "execution_count": 35,
     "metadata": {},
     "output_type": "execute_result"
    }
   ],
   "source": [
    "data.head()"
   ]
  },
  {
   "cell_type": "code",
   "execution_count": 36,
   "id": "b384e37a",
   "metadata": {
    "scrolled": true
   },
   "outputs": [
    {
     "data": {
      "text/html": [
       "<div>\n",
       "<style scoped>\n",
       "    .dataframe tbody tr th:only-of-type {\n",
       "        vertical-align: middle;\n",
       "    }\n",
       "\n",
       "    .dataframe tbody tr th {\n",
       "        vertical-align: top;\n",
       "    }\n",
       "\n",
       "    .dataframe thead th {\n",
       "        text-align: right;\n",
       "    }\n",
       "</style>\n",
       "<table border=\"1\" class=\"dataframe\">\n",
       "  <thead>\n",
       "    <tr style=\"text-align: right;\">\n",
       "      <th></th>\n",
       "      <th>age</th>\n",
       "      <th>workclass</th>\n",
       "      <th>education</th>\n",
       "      <th>education.num</th>\n",
       "      <th>occupation</th>\n",
       "      <th>relationship</th>\n",
       "      <th>race</th>\n",
       "      <th>sex</th>\n",
       "      <th>hours.per.week</th>\n",
       "      <th>native.country</th>\n",
       "      <th>income</th>\n",
       "      <th>new_marital_status</th>\n",
       "    </tr>\n",
       "  </thead>\n",
       "  <tbody>\n",
       "    <tr>\n",
       "      <th>0</th>\n",
       "      <td>90</td>\n",
       "      <td>3</td>\n",
       "      <td>8</td>\n",
       "      <td>9</td>\n",
       "      <td>9</td>\n",
       "      <td>1</td>\n",
       "      <td>4</td>\n",
       "      <td>1</td>\n",
       "      <td>40</td>\n",
       "      <td>38</td>\n",
       "      <td>0</td>\n",
       "      <td>5</td>\n",
       "    </tr>\n",
       "    <tr>\n",
       "      <th>1</th>\n",
       "      <td>82</td>\n",
       "      <td>3</td>\n",
       "      <td>8</td>\n",
       "      <td>9</td>\n",
       "      <td>3</td>\n",
       "      <td>1</td>\n",
       "      <td>4</td>\n",
       "      <td>1</td>\n",
       "      <td>18</td>\n",
       "      <td>38</td>\n",
       "      <td>0</td>\n",
       "      <td>5</td>\n",
       "    </tr>\n",
       "    <tr>\n",
       "      <th>2</th>\n",
       "      <td>66</td>\n",
       "      <td>3</td>\n",
       "      <td>12</td>\n",
       "      <td>10</td>\n",
       "      <td>9</td>\n",
       "      <td>4</td>\n",
       "      <td>2</td>\n",
       "      <td>1</td>\n",
       "      <td>40</td>\n",
       "      <td>38</td>\n",
       "      <td>0</td>\n",
       "      <td>5</td>\n",
       "    </tr>\n",
       "    <tr>\n",
       "      <th>3</th>\n",
       "      <td>54</td>\n",
       "      <td>3</td>\n",
       "      <td>3</td>\n",
       "      <td>4</td>\n",
       "      <td>6</td>\n",
       "      <td>4</td>\n",
       "      <td>4</td>\n",
       "      <td>1</td>\n",
       "      <td>40</td>\n",
       "      <td>38</td>\n",
       "      <td>0</td>\n",
       "      <td>0</td>\n",
       "    </tr>\n",
       "    <tr>\n",
       "      <th>4</th>\n",
       "      <td>41</td>\n",
       "      <td>3</td>\n",
       "      <td>12</td>\n",
       "      <td>10</td>\n",
       "      <td>9</td>\n",
       "      <td>3</td>\n",
       "      <td>4</td>\n",
       "      <td>1</td>\n",
       "      <td>40</td>\n",
       "      <td>38</td>\n",
       "      <td>0</td>\n",
       "      <td>4</td>\n",
       "    </tr>\n",
       "  </tbody>\n",
       "</table>\n",
       "</div>"
      ],
      "text/plain": [
       "   age  workclass  education  education.num  occupation  relationship  race  \\\n",
       "0   90          3          8              9           9             1     4   \n",
       "1   82          3          8              9           3             1     4   \n",
       "2   66          3         12             10           9             4     2   \n",
       "3   54          3          3              4           6             4     4   \n",
       "4   41          3         12             10           9             3     4   \n",
       "\n",
       "   sex  hours.per.week  native.country  income  new_marital_status  \n",
       "0    1              40              38       0                   5  \n",
       "1    1              18              38       0                   5  \n",
       "2    1              40              38       0                   5  \n",
       "3    1              40              38       0                   0  \n",
       "4    1              40              38       0                   4  "
      ]
     },
     "execution_count": 36,
     "metadata": {},
     "output_type": "execute_result"
    }
   ],
   "source": [
    "data_encoded.head()"
   ]
  },
  {
   "cell_type": "markdown",
   "id": "6f1cc518",
   "metadata": {},
   "source": [
    "### Feature Scaling"
   ]
  },
  {
   "cell_type": "code",
   "execution_count": 37,
   "id": "e417fa78",
   "metadata": {
    "scrolled": true
   },
   "outputs": [],
   "source": [
    "from sklearn.model_selection import train_test_split\n",
    "from sklearn.preprocessing import MinMaxScaler\n",
    "\n",
    "# Splitting the data into features and target variable\n",
    "X = data_encoded.drop('income', axis=1)  \n",
    "y = data_encoded['income']  \n",
    "\n",
    "# Splitting the dataset into training and testing sets\n",
    "X_train, X_test, y_train, y_test = train_test_split(X, y, test_size=0.2, random_state=42)\n",
    "\n",
    "# Initialize MinMaxScaler\n",
    "scaler = MinMaxScaler()\n",
    "\n",
    "# Fit the scaler on the training data and transform both training and testing data\n",
    "X_train_scaled = scaler.fit_transform(X_train)\n",
    "X_test_scaled = scaler.transform(X_test)\n"
   ]
  },
  {
   "cell_type": "code",
   "execution_count": 38,
   "id": "19e8cbf1",
   "metadata": {
    "scrolled": true
   },
   "outputs": [],
   "source": [
    "from sklearn.decomposition import PCA\n",
    "\n",
    "# Initialize PCA\n",
    "pca = PCA(n_components=0.95)\n",
    "\n",
    "# Fit PCA on the training data and transform both training and testing data\n",
    "X_train_pca = pca.fit_transform(X_train_scaled)\n",
    "X_test_pca = pca.transform(X_test_scaled)"
   ]
  },
  {
   "cell_type": "code",
   "execution_count": 39,
   "id": "5409000d",
   "metadata": {
    "scrolled": true
   },
   "outputs": [
    {
     "name": "stdout",
     "output_type": "stream",
     "text": [
      "[[-0.29354329  0.33323474  0.21044187 ... -0.09401944  0.01410372\n",
      "  -0.03832595]\n",
      " [ 0.55878492 -0.08334339 -0.03832949 ... -0.23506094 -0.03911486\n",
      "  -0.04144251]\n",
      " [ 0.82450699  0.42390375 -0.34271384 ... -0.0362596  -0.00515173\n",
      "   0.00439167]\n",
      " ...\n",
      " [-0.45182295 -0.40484139  0.05174495 ...  0.03455169  0.47908291\n",
      "  -0.00700186]\n",
      " [-0.41962864  0.47271597 -0.19498    ... -0.02595582  0.02176293\n",
      "  -0.01645788]\n",
      " [-0.12763083  0.10348874  0.40525847 ... -0.04602635 -0.0057052\n",
      "   0.1396896 ]]\n"
     ]
    }
   ],
   "source": [
    "print(X_train_pca)"
   ]
  },
  {
   "cell_type": "markdown",
   "id": "4a23ab0d",
   "metadata": {},
   "source": [
    "# Gradient Boosting"
   ]
  },
  {
   "cell_type": "code",
   "execution_count": 40,
   "id": "d0195d1e",
   "metadata": {
    "scrolled": true
   },
   "outputs": [
    {
     "name": "stdout",
     "output_type": "stream",
     "text": [
      "Requirement already satisfied: xgboost in /Users/darahasgundepudi/opt/anaconda3/lib/python3.9/site-packages (2.0.2)\n",
      "Requirement already satisfied: numpy in /Users/darahasgundepudi/opt/anaconda3/lib/python3.9/site-packages (from xgboost) (1.24.4)\n",
      "Requirement already satisfied: scipy in /Users/darahasgundepudi/opt/anaconda3/lib/python3.9/site-packages (from xgboost) (1.9.1)\n",
      "Note: you may need to restart the kernel to use updated packages.\n"
     ]
    }
   ],
   "source": [
    "pip install xgboost"
   ]
  },
  {
   "cell_type": "code",
   "execution_count": 41,
   "id": "b8cd2958",
   "metadata": {
    "scrolled": true
   },
   "outputs": [
    {
     "name": "stdout",
     "output_type": "stream",
     "text": [
      "Accuracy: 83.31%\n"
     ]
    }
   ],
   "source": [
    "import xgboost as xgb\n",
    "from sklearn.model_selection import train_test_split\n",
    "from sklearn.metrics import accuracy_score\n",
    "\n",
    "# Convert the dataset into an optimized data structure called Dmatrix\n",
    "dtrain = xgb.DMatrix(X_train_pca, label=y_train)\n",
    "dtest = xgb.DMatrix(X_test_pca, label=y_test)\n",
    "\n",
    "# Define XGBoost parameters\n",
    "params = {\n",
    "    'max_depth': 3,  # the maximum depth of each tree\n",
    "    'eta': 0.1,      # the training step for each iteration\n",
    "    'objective': 'binary:logistic',  # binary classification\n",
    "    'eval_metric': 'logloss',  # evaluation metric\n",
    "    'nthread': 4     # the number of threads to use\n",
    "}\n",
    "\n",
    "# Specify the number of training iterations\n",
    "num_round = 100\n",
    "\n",
    "# Train the model\n",
    "bst = xgb.train(params, dtrain, num_round)\n",
    "\n",
    "# Predictions on the test set\n",
    "preds = bst.predict(dtest)\n",
    "predictions = [1 if value > 0.5 else 0 for value in preds]\n",
    "\n",
    "# Evaluate the model\n",
    "gradient_boosting_accuracy = accuracy_score(y_test, predictions)\n",
    "print(\"Accuracy: %.2f%%\" % (gradient_boosting_accuracy * 100.0))\n"
   ]
  },
  {
   "cell_type": "code",
   "execution_count": 42,
   "id": "76c0b592",
   "metadata": {
    "scrolled": true
   },
   "outputs": [
    {
     "name": "stdout",
     "output_type": "stream",
     "text": [
      "Best Parameters: {'learning_rate': 0.1, 'max_depth': 5, 'n_estimators': 100, 'subsample': 0.8}\n",
      "Best Score: 83.81%\n"
     ]
    }
   ],
   "source": [
    "from sklearn.model_selection import GridSearchCV, KFold\n",
    "import xgboost as xgb\n",
    "\n",
    "# Define the parameter grid to search\n",
    "param_grid = {\n",
    "    'max_depth': [3, 4, 5],\n",
    "    'learning_rate': [0.01, 0.1, 0.2],\n",
    "    'n_estimators': [100, 200, 300],\n",
    "    'subsample': [0.8, 0.9, 1.0]\n",
    "}\n",
    "\n",
    "# Initialize XGBoost Classifier\n",
    "xgb_clf = xgb.XGBClassifier(objective='binary:logistic')\n",
    "\n",
    "# Setup the K-Fold cross-validation\n",
    "kf = KFold(n_splits=5, shuffle=True, random_state=42)\n",
    "\n",
    "# Initialize GridSearchCV to perform hyperparameter tuning\n",
    "grid_search = GridSearchCV(xgb_clf, param_grid, scoring='accuracy', n_jobs=-1, cv=kf)\n",
    "\n",
    "# Fit GridSearchCV\n",
    "grid_search.fit(X_train_pca, y_train)\n",
    "\n",
    "# Best parameters and best score\n",
    "best_parameters = grid_search.best_params_\n",
    "gradient_best_score = grid_search.best_score_\n",
    "\n",
    "print(\"Best Parameters:\", best_parameters)\n",
    "print(\"Best Score: %.2f%%\" % (gradient_best_score * 100.0))\n"
   ]
  },
  {
   "cell_type": "markdown",
   "id": "469dcfd9",
   "metadata": {},
   "source": [
    "# SVM"
   ]
  },
  {
   "cell_type": "code",
   "execution_count": 43,
   "id": "5f04db50",
   "metadata": {
    "scrolled": true
   },
   "outputs": [
    {
     "name": "stdout",
     "output_type": "stream",
     "text": [
      "Requirement already satisfied: scikit-learn in /Users/darahasgundepudi/opt/anaconda3/lib/python3.9/site-packages (1.0.2)\n",
      "Requirement already satisfied: numpy>=1.14.6 in /Users/darahasgundepudi/opt/anaconda3/lib/python3.9/site-packages (from scikit-learn) (1.24.4)\n",
      "Requirement already satisfied: scipy>=1.1.0 in /Users/darahasgundepudi/opt/anaconda3/lib/python3.9/site-packages (from scikit-learn) (1.9.1)\n",
      "Requirement already satisfied: joblib>=0.11 in /Users/darahasgundepudi/opt/anaconda3/lib/python3.9/site-packages (from scikit-learn) (1.1.0)\n",
      "Requirement already satisfied: threadpoolctl>=2.0.0 in /Users/darahasgundepudi/opt/anaconda3/lib/python3.9/site-packages (from scikit-learn) (2.2.0)\n",
      "Note: you may need to restart the kernel to use updated packages.\n"
     ]
    }
   ],
   "source": [
    "pip install scikit-learn"
   ]
  },
  {
   "cell_type": "code",
   "execution_count": 44,
   "id": "94f572d3",
   "metadata": {
    "scrolled": true
   },
   "outputs": [
    {
     "name": "stdout",
     "output_type": "stream",
     "text": [
      "Accuracy: 83.02%\n"
     ]
    }
   ],
   "source": [
    "from sklearn.svm import SVC\n",
    "from sklearn.model_selection import train_test_split\n",
    "from sklearn.metrics import accuracy_score\n",
    "\n",
    "# Initialize the Support Vector Classifier\n",
    "svm_model = SVC(kernel='rbf')\n",
    "\n",
    "# Train the model\n",
    "svm_model.fit(X_train_pca, y_train)\n",
    "\n",
    "# Predictions on the test set\n",
    "y_pred = svm_model.predict(X_test_pca)\n",
    "\n",
    "# Evaluate the model\n",
    "svm_accuracy = accuracy_score(y_test, y_pred)\n",
    "print(\"Accuracy: %.2f%%\" % (svm_accuracy * 100.0))\n"
   ]
  },
  {
   "cell_type": "code",
   "execution_count": 45,
   "id": "b402d33d",
   "metadata": {
    "scrolled": true
   },
   "outputs": [],
   "source": [
    "from sklearn.svm import SVC\n",
    "from sklearn.model_selection import train_test_split, GridSearchCV, KFold\n",
    "from sklearn.metrics import accuracy_score\n",
    "from sklearn.preprocessing import StandardScaler\n",
    "\n",
    "# Standardizing the data\n",
    "scaler = StandardScaler()\n",
    "X_train_scaled = scaler.fit_transform(X_train)\n",
    "X_test_scaled = scaler.transform(X_test)\n",
    "\n",
    "# Define the parameter grid to search\n",
    "param_grid = {\n",
    "    'C': [0.1, 1, 10, 100],  # Regularization parameter\n",
    "    'gamma': ['scale', 'auto'],  # Kernel coefficient\n",
    "    'kernel': ['rbf', 'poly']  # Type of SVM kernel\n",
    "}\n",
    "\n",
    "# Initialize the Support Vector Classifier\n",
    "svm_model = SVC()\n",
    "\n",
    "# Setup the K-Fold cross-validation\n",
    "kf = KFold(n_splits=5, shuffle=True, random_state=42)\n",
    "\n",
    "# Initialize GridSearchCV to perform hyperparameter tuning\n",
    "grid_search = GridSearchCV(svm_model, param_grid, scoring='accuracy', n_jobs=-1, cv=kf)\n",
    "\n",
    "# Fit GridSearchCV\n",
    "grid_search.fit(X_train, y_train)\n",
    "\n",
    "# Best parameters and best score\n",
    "best_parameters = grid_search.best_params_\n",
    "best_score = grid_search.best_score_\n",
    "\n",
    "# Evaluate the best model on the test set\n",
    "best_svm_model = grid_search.best_estimator_\n",
    "y_pred = best_svm_model.predict(X_test_scaled)\n",
    "accuracy = accuracy_score(y_test, y_pred)\n",
    "\n",
    "print(\"Best Parameters:\", best_parameters)\n",
    "print(\"Best Score: %.2f%%\" % (best_score * 100.0))\n",
    "print(\"Test Accuracy: %.2f%%\" % (accuracy * 100.0))\n"
   ]
  },
  {
   "cell_type": "markdown",
   "id": "52b6ba33",
   "metadata": {},
   "source": [
    "# CART Algorithm"
   ]
  },
  {
   "cell_type": "code",
   "execution_count": 46,
   "id": "3981a044",
   "metadata": {
    "scrolled": true
   },
   "outputs": [
    {
     "name": "stdout",
     "output_type": "stream",
     "text": [
      "Best Parameters: {'criterion': 'entropy', 'max_depth': 10, 'min_samples_leaf': 2, 'min_samples_split': 5}\n",
      "Best Score: 83.22%\n",
      "Test Accuracy: 83.17%\n"
     ]
    }
   ],
   "source": [
    "from sklearn.tree import DecisionTreeClassifier\n",
    "from sklearn.model_selection import train_test_split, GridSearchCV, KFold\n",
    "from sklearn.metrics import accuracy_score\n",
    "\n",
    "\n",
    "# Define the parameter grid to search\n",
    "param_grid = {\n",
    "    'max_depth': [None, 10, 20, 30, 40, 50],\n",
    "    'min_samples_split': [2, 5, 10],\n",
    "    'min_samples_leaf': [1, 2, 4],\n",
    "    'criterion': ['gini', 'entropy']\n",
    "}\n",
    "\n",
    "# Initialize the Decision Tree Classifier (CART)\n",
    "cart_model = DecisionTreeClassifier()\n",
    "\n",
    "# Setup the K-Fold cross-validation\n",
    "kf = KFold(n_splits=10, shuffle=True, random_state=42)\n",
    "\n",
    "# Initialize GridSearchCV to perform hyperparameter tuning\n",
    "grid_search = GridSearchCV(cart_model, param_grid, scoring='accuracy', n_jobs=-1, cv=kf)\n",
    "\n",
    "# Fit GridSearchCV\n",
    "grid_search.fit(X_train, y_train)\n",
    "\n",
    "# Best parameters and best score\n",
    "best_parameters = grid_search.best_params_\n",
    "best_score = grid_search.best_score_\n",
    "\n",
    "# Evaluate the best model on the test set\n",
    "best_cart_model = grid_search.best_estimator_\n",
    "y_pred = best_cart_model.predict(X_test)\n",
    "cart_accuracy = accuracy_score(y_test, y_pred)\n",
    "\n",
    "print(\"Best Parameters:\", best_parameters)\n",
    "print(\"Best Score: %.2f%%\" % (best_score * 100.0))\n",
    "print(\"Test Accuracy: %.2f%%\" % (cart_accuracy * 100.0))\n"
   ]
  },
  {
   "cell_type": "markdown",
   "id": "715ddf5f",
   "metadata": {},
   "source": [
    "# Decision Tree"
   ]
  },
  {
   "cell_type": "code",
   "execution_count": 47,
   "id": "3a959520",
   "metadata": {
    "scrolled": true
   },
   "outputs": [
    {
     "name": "stdout",
     "output_type": "stream",
     "text": [
      "Accuracy: 82.44%\n"
     ]
    }
   ],
   "source": [
    "from sklearn.tree import DecisionTreeClassifier\n",
    "\n",
    "# Initialize the Decision Tree Classifier\n",
    "dtree = DecisionTreeClassifier(max_depth=5, min_samples_split=4, min_samples_leaf=2)\n",
    "\n",
    "# Train the model\n",
    "dtree.fit(X_train, y_train)\n",
    "\n",
    "# Predictions on the test set\n",
    "y_pred = dtree.predict(X_test)\n",
    "\n",
    "# Evaluate the model\n",
    "decision_tree_accuracy = accuracy_score(y_test, y_pred)\n",
    "print(\"Accuracy: %.2f%%\" % (decision_tree_accuracy * 100.0))\n"
   ]
  },
  {
   "cell_type": "markdown",
   "id": "0978f212",
   "metadata": {},
   "source": [
    "# Random Forest"
   ]
  },
  {
   "cell_type": "code",
   "execution_count": 48,
   "id": "5a9b459a",
   "metadata": {
    "scrolled": true
   },
   "outputs": [
    {
     "name": "stdout",
     "output_type": "stream",
     "text": [
      "Accuracy: 83.83%\n"
     ]
    }
   ],
   "source": [
    "import pandas as pd\n",
    "from sklearn.ensemble import RandomForestClassifier\n",
    "from sklearn.model_selection import train_test_split\n",
    "from sklearn.metrics import accuracy_score\n",
    "\n",
    "# Initialize the Random Forest Classifier\n",
    "rf_classifier = RandomForestClassifier(n_estimators=100, max_depth=10, min_samples_split=4, min_samples_leaf=28, random_state=42)\n",
    "\n",
    "# Train the model\n",
    "rf_model = rf_classifier.fit(X_train, y_train)\n",
    "\n",
    "# Predictions on the test set\n",
    "y_pred = rf_classifier.predict(X_test)\n",
    "\n",
    "# Evaluate the model\n",
    "random_forest_accuracy = accuracy_score(y_test, y_pred)\n",
    "print(\"Accuracy: %.2f%%\" % (random_forest_accuracy * 100.0))\n"
   ]
  },
  {
   "cell_type": "code",
   "execution_count": 49,
   "id": "006e3266",
   "metadata": {
    "scrolled": false
   },
   "outputs": [
    {
     "data": {
      "image/png": "[encoded data removed]",
      "text/plain": [
       "<Figure size 1000x500 with 1 Axes>"
      ]
     },
     "metadata": {},
     "output_type": "display_data"
    }
   ],
   "source": [
    "model_accuracies = {\n",
    "    'Gradient Boosting': gradient_best_score,\n",
    "    'SVM': svm_accuracy,\n",
    "    'Random Forest': random_forest_accuracy,\n",
    "    'Decision Tree': decision_tree_accuracy,\n",
    "    'CART Algorithm': cart_accuracy\n",
    "}\n",
    "\n",
    "# Names of the models\n",
    "model_names = list(model_accuracies.keys())\n",
    "# Corresponding accuracies\n",
    "accuracies = list(model_accuracies.values())\n",
    "\n",
    "# Creating the bar graph\n",
    "plt.figure(figsize=(10, 5))\n",
    "plt.bar(model_names, accuracies, color=['blue', 'green', 'red', 'purple', 'orange'])\n",
    "plt.ylim(0.8,0.9)\n",
    "# Adding the title and labels\n",
    "plt.title('Model Accuracies')\n",
    "plt.xlabel('Models')\n",
    "plt.ylabel('Accuracy')\n",
    "\n",
    "# Displaying the bar graph\n",
    "plt.show()\n"
   ]
  },
  {
   "cell_type": "markdown",
   "id": "bcdc7153",
   "metadata": {},
   "source": [
    "# Save the model"
   ]
  },
  {
   "cell_type": "code",
   "execution_count": 50,
   "id": "d235309a",
   "metadata": {
    "scrolled": true
   },
   "outputs": [
    {
     "data": {
      "text/plain": [
       "['best_cart_model.joblib']"
      ]
     },
     "execution_count": 50,
     "metadata": {},
     "output_type": "execute_result"
    }
   ],
   "source": [
    "from joblib import dump\n",
    "\n",
    "\n",
    "dump(rf_model, 'best_cart_model.joblib')"
   ]
  },
  {
   "cell_type": "markdown",
   "id": "bac13070",
   "metadata": {},
   "source": [
    "# Load the model"
   ]
  },
  {
   "cell_type": "code",
   "execution_count": 51,
   "id": "a5213f32",
   "metadata": {
    "scrolled": true
   },
   "outputs": [
    {
     "name": "stdout",
     "output_type": "stream",
     "text": [
      "Loaded Model Test Accuracy: 83.83%\n"
     ]
    }
   ],
   "source": [
    "from joblib import load\n",
    "from sklearn.metrics import accuracy_score\n",
    "\n",
    "best_rf_model = load('best_cart_model.joblib')\n",
    "\n",
    "predictions = best_rf_model.predict(X_test)\n",
    "loaded_model_accuracy = accuracy_score(y_test, predictions)\n",
    "\n",
    "print(\"Loaded Model Test Accuracy: %.2f%%\" % (loaded_model_accuracy * 100.0))\n"
   ]
  },
  {
   "cell_type": "markdown",
   "id": "a23f52a7",
   "metadata": {},
   "source": [
    "# GUI"
   ]
  },
  {
   "cell_type": "code",
   "execution_count": null,
   "id": "a6aac9c4",
   "metadata": {
    "scrolled": true
   },
   "outputs": [],
   "source": [
    "import tkinter as tk\n",
    "from tkinter import ttk, messagebox\n",
    "from PIL import Image, ImageTk\n",
    "\n",
    "root = tk.Tk()\n",
    "root.title(\"Census Income Prediction\")\n",
    "\n",
    "root.geometry(\"1000x563\")\n",
    "\n",
    "image_path = \"image.png\" \n",
    "bg_image = Image.open(image_path)\n",
    "bg_photo = ImageTk.PhotoImage(bg_image)\n",
    "\n",
    "root.bg_photo = bg_photo\n",
    "\n",
    "bg_label = tk.Label(root, image=bg_photo)\n",
    "bg_label.place(relwidth=1, relheight=1)\n",
    "\n",
    "title_label = ttk.Label(root, text=\"Census Income Prediction\", font=(\"Helvetica\", 16))\n",
    "title_label.pack(pady=10)\n",
    "\n",
    "workclass_mapping = {'Federal-gov':0, 'Local-gov':1, 'Never-worked':2, 'Private':3, 'Self-emp-inc':4, 'Self-emp-not-inc':5, 'State-gov':6, 'Without-pay':7}\n",
    "occupation_mapping = {'Adm-clerical':0, 'Armed-Forces':1, 'Craft-repair':2, 'Exec-managerial':3, 'Farming-fishing':4, 'Handlers-cleaners':5, 'Machine-op-inspct':6, 'Other-service':7, 'Priv-house-serv':8, 'Prof-specialty':9, 'Protective-serv':10, 'Sales':11, 'Tech-support':12, 'Transport-moving':13}\n",
    "marital_mapping = {'Divorced':0, 'Married-x-spouse':1, 'Married-spouse-absent':2, 'Never-married':3, 'Separated':4, 'Widowed':5}\n",
    "relationship_mapping = {'Husband':0, 'Not-in-family':1, 'Other-relative':2, 'Own-child':3, 'Unmarried':4, 'Wife':5}\n",
    "race_mapping = {'Amer-Indian-Eskimo':0, 'Asian-Pac-Islander':1, 'Black':2, 'Other':3, 'White':4}\n",
    "sex_mapping = {'Female':1, 'Male':0}\n",
    "country_mapping = {\n",
    "    'Cambodia': 0, 'Canada': 1, 'China': 2, 'Columbia': 3, 'Cuba': 4, \n",
    "    'Dominican-Republic': 5, 'Ecuador': 6, 'El-Salvador': 7, 'England': 8, \n",
    "    'France': 9, 'Germany': 10, 'Greece': 11, 'Guatemala': 12, 'Haiti': 13, \n",
    "    'Holand-Netherlands': 14, 'Honduras': 15, 'Hong': 16, 'Hungary': 17, \n",
    "    'India': 18, 'Iran': 19, 'Ireland': 20, 'Italy': 21, 'Jamaica': 22, \n",
    "    'Japan': 23, 'Laos': 24, 'Mexico': 25, 'Nicaragua': 26, \n",
    "    'Outlying-US(Guam-USVI-etc)': 27, 'Peru': 28, 'Philippines': 29, \n",
    "    'Poland': 30, 'Portugal': 31, 'Puerto-Rico': 32, 'Scotland': 33, \n",
    "    'South': 34, 'Taiwan': 35, 'Thailand': 36, 'Trinadad&Tobago': 37, \n",
    "    'United-States': 38, 'Unknown': 39, 'Vietnam': 40, 'Yugoslavia': 41\n",
    "}\n",
    "\n",
    "\n",
    "def predict():\n",
    "    try:\n",
    "        age = int(age_entry.get())\n",
    "        education_num = int(education_num_entry.get())\n",
    "        working_hours = int(working_hours_entry.get())\n",
    "\n",
    "        workclass_encoded = workclass_mapping[work_class_combobox.get()]\n",
    "        occupation_encoded = occupation_mapping[occupation_combobox.get()]\n",
    "        education_encoded = education_order[education_combobox.get()]\n",
    "        marital_encoded = marital_mapping[marital_status_combobox.get()]\n",
    "        relationship_encoded = relationship_mapping[relationship_combobox.get()]\n",
    "        race_encoded = race_mapping[race_combobox.get()]\n",
    "        sex_encoded = sex_mapping[sex_combobox.get()]\n",
    "        country_encoded = country_mapping[country_combobox.get()]\n",
    "\n",
    "        features = [age, workclass_encoded, education_encoded, education_num, occupation_encoded, relationship_encoded, race_encoded, sex_encoded, working_hours, country_encoded, marital_encoded]\n",
    "\n",
    "        prediction = best_rf_model.predict([features])\n",
    "\n",
    "        if prediction[0] == 0:\n",
    "            messagebox.showinfo(\"Prediction\", \"Income less than 50K\")\n",
    "        else:\n",
    "            messagebox.showinfo(\"Prediction\", \"Income more than 50K\")\n",
    "    except ValueError:\n",
    "        messagebox.showerror(\"Input Error\", \"Invalid input. Please enter valid data.\")\n",
    "    except KeyError:\n",
    "        messagebox.showerror(\"Input Error\", \"Please select an option from all dropdowns.\")\n",
    "    except Exception as e:\n",
    "        messagebox.showerror(\"Error\", str(e))\n",
    "\n",
    "form_frame = ttk.Frame(root)\n",
    "form_frame.pack(pady=10, fill='x', expand=True)\n",
    "\n",
    "def create_labeled_entry(parent, label_text):\n",
    "    frame = ttk.Frame(parent)\n",
    "    label = ttk.Label(frame, text=label_text)\n",
    "    label.pack(side=\"left\")\n",
    "    entry = ttk.Entry(frame)\n",
    "    entry.pack(side=\"right\", fill='x', expand=True)\n",
    "    frame.pack(fill='x', expand=True, padx=10, pady=2)\n",
    "    return entry\n",
    "\n",
    "def create_labeled_combobox(parent, label_text, options):\n",
    "    frame = ttk.Frame(parent)\n",
    "    label = ttk.Label(frame, text=label_text)\n",
    "    label.pack(side=\"left\")\n",
    "    combobox = ttk.Combobox(frame, values=options)\n",
    "    combobox.pack(side=\"right\", fill='x', expand=True)\n",
    "    frame.pack(fill='x', expand=True, padx=10, pady=2)\n",
    "    return combobox\n",
    "\n",
    "age_entry = create_labeled_entry(form_frame, \"Age:\")\n",
    "working_hours_entry = create_labeled_entry(form_frame, \"Working hour/week:\")\n",
    "education_num_entry = create_labeled_entry(form_frame, \"Number of education year:\")\n",
    "\n",
    "occupations = ['Prof-specialty', 'Exec-managerial', 'Machine-op-inspct',\n",
    "       'Other-service', 'Adm-clerical', 'Craft-repair',\n",
    "       'Transport-moving', 'Handlers-cleaners', 'Sales',\n",
    "       'Farming-fishing', 'Tech-support', 'Protective-serv',\n",
    "       'Armed-Forces', 'Priv-house-serv']\n",
    "education_levels = ['HS-grad', 'Some-college', '7th-8th', '10th', 'Doctorate',\n",
    "       'Prof-school', 'Bachelors', 'Masters', '11th', 'Assoc-acdm',\n",
    "       'Assoc-voc', '1st-4th', '5th-6th', '12th', '9th', 'Preschool']\n",
    "work_classes = ['Private', 'State-gov', 'Federal-gov', 'Self-emp-not-inc',\n",
    "       'Self-emp-inc', 'Local-gov', 'Without-pay', 'Never-worked']\n",
    "marital_statuses = ['Married-AF-spouse', 'Married-civ-spouse', 'Married-spouse-absent', 'Divorced', 'Separated', 'Widowed']\n",
    "relationships = ['Husband', 'Not-in-family', 'Other-relative', 'Wife', 'Own-child', 'Unmarried']\n",
    "races = ['White', 'Black', 'Asian-Pac-Islander', 'Other', 'Amer-Indian-Eskimo']\n",
    "sexes = ['Male', 'Female']\n",
    "countries = ['United-States', 'Unknown', 'Mexico', 'Greece', 'Vietnam', 'China',\n",
    "       'Taiwan', 'India', 'Philippines', 'Trinadad&Tobago', 'Canada',\n",
    "       'South', 'Holand-Netherlands', 'Puerto-Rico', 'Poland', 'Iran',\n",
    "       'England', 'Germany', 'Italy', 'Japan', 'Hong', 'Honduras', 'Cuba',\n",
    "       'Ireland', 'Cambodia', 'Peru', 'Nicaragua', 'Dominican-Republic',\n",
    "       'Haiti', 'El-Salvador', 'Hungary', 'Columbia', 'Guatemala',\n",
    "       'Jamaica', 'Ecuador', 'France', 'Yugoslavia', 'Scotland',\n",
    "       'Portugal', 'Laos', 'Thailand', 'Outlying-US(Guam-USVI-etc)']\n",
    "\n",
    "occupation_combobox = create_labeled_combobox(form_frame, \"Occupation:\", occupations)\n",
    "education_combobox = create_labeled_combobox(form_frame, \"Education:\", education_levels)\n",
    "work_class_combobox = create_labeled_combobox(form_frame, \"Work Class:\", work_classes)\n",
    "marital_status_combobox = create_labeled_combobox(form_frame, \"Marital-status:\", marital_statuses)\n",
    "relationship_combobox = create_labeled_combobox(form_frame, \"Relationship:\", relationships)\n",
    "race_combobox = create_labeled_combobox(form_frame, \"Race:\", races)\n",
    "sex_combobox = create_labeled_combobox(form_frame, \"Sex:\", sexes)\n",
    "country_combobox = create_labeled_combobox(form_frame, \"Native-country:\", countries)\n",
    "\n",
    "predict_button = ttk.Button(root, text=\"Predict\", command=predict)\n",
    "predict_button.pack(pady=20)\n",
    "\n",
    "root.mainloop()\n"
   ]
  },
  {
   "cell_type": "code",
   "execution_count": null,
   "id": "0871cef2",
   "metadata": {
    "scrolled": false
   },
   "outputs": [],
   "source": []
  }
 ],
 "metadata": {
  "kernelspec": {
   "display_name": "Python 3 (ipykernel)",
   "language": "python",
   "name": "python3"
  },
  "language_info": {
   "codemirror_mode": {
    "name": "ipython",
    "version": 3
   },
   "file_extension": ".py",
   "mimetype": "text/x-python",
   "name": "python",
   "nbconvert_exporter": "python",
   "pygments_lexer": "ipython3",
   "version": "3.9.13"
  }
 },
 "nbformat": 4,
 "nbformat_minor": 5
}
